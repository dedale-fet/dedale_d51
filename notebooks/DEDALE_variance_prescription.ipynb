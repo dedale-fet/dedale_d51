{
 "cells": [
  {
   "cell_type": "code",
   "execution_count": 1,
   "metadata": {
    "collapsed": true
   },
   "outputs": [],
   "source": [
    "%matplotlib inline\n",
    "from __future__ import division, print_function\n",
    "import numpy as np\n",
    "import matplotlib.pyplot as plt"
   ]
  },
  {
   "cell_type": "code",
   "execution_count": 17,
   "metadata": {
    "collapsed": true
   },
   "outputs": [],
   "source": [
    "def mock_observation_variance(sigma_out, sigma_in, L_inmin, L_inmax, Ltotmin=1250, Ltotmax=20000, dL=5):\n",
    "    \"\"\"\n",
    "    \"\"\"\n",
    "    assert sigma_out > sigma_in, (\"Variance value 'outside the survey' (sigma_out) \" +\n",
    "                                  \"should be higher than 'inside the survey' (sigma_in)\")\n",
    "\n",
    "    assert sigma_out/sigma_in < 1e16, (\"Ratio of sigma_out/sigma_in must be smaller \" +\n",
    "                                       \"than 1e16. Otherwise, risk of numerical errors.\")\n",
    "\n",
    "    assert L_inmin < L_inmax, (\"Lower transition wavelength (L_inmin) from 'outside' \" +\n",
    "                               \"to 'inside' the survey should be smaller than transition\" +\n",
    "                               \"back to 'outside' (L_inmax)\")\n",
    "\n",
    "    assert (L_inmin > Ltotmin) and (L_inmax < Ltotmax), (\"L_inmin and L_inmax must be \" +\n",
    "                                                         \"within the spectra wavelength \" +\n",
    "                                                         \"limits.\")    \n",
    "\n",
    "    assert (L_inmax - L_inmin) >= 50, (\"L_inmax - L_inmin must be larger than 50. \" +\n",
    "                                      \"If not, the double hyperbolic tangent parameterisation \" +\n",
    "                                      \"risks not reaching the lower limit. This is \" +\n",
    "                                      \"a hard-coded but reasonable value.\")\n",
    "    \n",
    "    wavelength = np.arange(Ltotmin, Ltotmax, dL)\n",
    "    pivot = (L_inmin + L_inmax)/2.\n",
    "    \n",
    "    B = 0.1 # Reduce this value if you want the transition to be smoother\n",
    "    A = (sigma_out - sigma_in)/2.\n",
    "    D = (sigma_out + sigma_in)/2.\n",
    "    \n",
    "    # Lower hyperbolic tangent\n",
    "    C = L_inmin\n",
    "    wave_low = wavelength[wavelength < pivot]\n",
    "    sigma_low = D - A*np.tanh(B*(wave_low - C)) \n",
    "    \n",
    "    # Upper hyperbolic tangent\n",
    "    C = L_inmax\n",
    "    wave_high = wavelength[wavelength >= pivot]\n",
    "    sigma_high = D + A*np.tanh(B*(wave_high - C))\n",
    "    \n",
    "    variance = np.hstack([sigma_low, sigma_high])\n",
    "    \n",
    "    return wavelength, variance"
   ]
  },
  {
   "cell_type": "code",
   "execution_count": 18,
   "metadata": {
    "collapsed": false,
    "scrolled": true
   },
   "outputs": [
    {
     "data": {
      "image/png": "[encoded data removed]",
      "text/plain": [
       "<matplotlib.figure.Figure at 0x106482b90>"
      ]
     },
     "metadata": {},
     "output_type": "display_data"
    }
   ],
   "source": [
    "wave, flux = mock_observation_variance(1e-15, 1e-18, 3000, 12000, Ltotmin=1250, Ltotmax=20000, dL=5)\n",
    "plt.plot(wave, flux)\n",
    "plt.yscale(\"log\")"
   ]
  },
  {
   "cell_type": "markdown",
   "metadata": {},
   "source": [
    "# 1) Dark Energy Spectroscopic Instrument (DESI) configurations\n",
    "\n",
    "Rationale for sigma choices: from DESI instrument specifications (https://arxiv.org/pdf/1611.00037.pdf), I read from Fig. 7.4 an approximate noise value of sigma_in = 1e-17. For sigma_out, I picked one of the typical OII doublet values quoted (i.e. 1e-16) and fixed a very low SNR (1/50):"
   ]
  },
  {
   "cell_type": "code",
   "execution_count": 19,
   "metadata": {
    "collapsed": false
   },
   "outputs": [
    {
     "data": {
      "text/plain": [
       "5e-15"
      ]
     },
     "execution_count": 19,
     "metadata": {},
     "output_type": "execute_result"
    }
   ],
   "source": [
    "1e-16/0.02"
   ]
  },
  {
   "cell_type": "code",
   "execution_count": 28,
   "metadata": {
    "collapsed": false
   },
   "outputs": [
    {
     "data": {
      "image/png": "[encoded data removed]",
      "text/plain": [
       "<matplotlib.figure.Figure at 0x1064c3f90>"
      ]
     },
     "metadata": {},
     "output_type": "display_data"
    }
   ],
   "source": [
    "wave, flux = mock_observation_variance(5e-15, 1e-17, 3600, 9800, Ltotmin=1250, Ltotmax=20000, dL=5)\n",
    "plt.plot(wave, flux)\n",
    "plt.yscale(\"log\")"
   ]
  },
  {
   "cell_type": "markdown",
   "metadata": {},
   "source": [
    "# 2) Euclid NISP configurations\n",
    "\n",
    "If we want to test only the impact of the redshift range being observed, I am going to use DESI sigmas above, but only select the near infrared range that Euclid's spectrograph is expected to observe."
   ]
  },
  {
   "cell_type": "code",
   "execution_count": 30,
   "metadata": {
    "collapsed": false
   },
   "outputs": [
    {
     "data": {
      "image/png": "[encoded data removed]",
      "text/plain": [
       "<matplotlib.figure.Figure at 0x111503d90>"
      ]
     },
     "metadata": {},
     "output_type": "display_data"
    }
   ],
   "source": [
    "wave, flux = mock_observation_variance(5e-15, 1e-17, 11000, 19500, Ltotmin=1250, Ltotmax=20000, dL=5)\n",
    "plt.plot(wave, flux)\n",
    "plt.yscale(\"log\")"
   ]
  }
 ],
 "metadata": {
  "anaconda-cloud": {},
  "kernelspec": {
   "display_name": "Python [Root]",
   "language": "python",
   "name": "Python [Root]"
  },
  "language_info": {
   "codemirror_mode": {
    "name": "ipython",
    "version": 2
   },
   "file_extension": ".py",
   "mimetype": "text/x-python",
   "name": "python",
   "nbconvert_exporter": "python",
   "pygments_lexer": "ipython2",
   "version": "2.7.13"
  }
 },
 "nbformat": 4,
 "nbformat_minor": 0
}
